{
  "nbformat": 4,
  "nbformat_minor": 0,
  "metadata": {
    "colab": {
      "name": "modelo-deteccao-fraude.ipynb",
      "provenance": [],
      "collapsed_sections": []
    },
    "kernelspec": {
      "display_name": "Python 3",
      "language": "python",
      "name": "python3"
    },
    "language_info": {
      "codemirror_mode": {
        "name": "ipython",
        "version": 3
      },
      "file_extension": ".py",
      "mimetype": "text/x-python",
      "name": "python",
      "nbconvert_exporter": "python",
      "pygments_lexer": "ipython3",
      "version": "3.7.1"
    }
  },
  "cells": [
    {
      "cell_type": "markdown",
      "metadata": {
        "colab_type": "text",
        "id": "K3Cls8kKWRPc"
      },
      "source": [
        "# **Detecção de Fraudes em Cartões de Crédito - Modelo Machine Learning** \n",
        "\n",
        "É importante que as empresas de cartão de crédito possam reconhecer transações fraudulentas com cartão de crédito, para que os clientes não sejam cobrados pelos itens que não compraram. Neste projeto iremos analisar operações financeiras em busca de encontrar um bom modelo de classificação que identifique transações fraudulentas.\n",
        "\n",
        "Tenho por objetivo através desse trabalho apenas fazer demonstrações de técnicas de Machine Learning interessantes e que podem ser utilizadas na elaboração de modelos de classificação."
      ]
    },
    {
      "cell_type": "markdown",
      "metadata": {
        "id": "KFuxnyq7OugS",
        "colab_type": "text"
      },
      "source": [
        "## Dados"
      ]
    },
    {
      "cell_type": "markdown",
      "metadata": {
        "id": "io4aJcZNOugW",
        "colab_type": "text"
      },
      "source": [
        "Os dados utilizados nesse projeto foram coletados na plataforma Kaggle, podendo ser encontrados [neste link](https://www.kaggle.com/mlg-ulb/creditcardfraud).\n",
        "\n",
        "Os conjuntos de dados contêm transações realizadas com cartões de crédito em setembro de 2013 por portadores de cartões europeus. Esse conjunto de dados apresenta transações que ocorreram em dois dias, nas quais temos 492 fraudes em 284.807 transações. O conjunto de dados é altamente desequilibrado, a classe positiva (fraudes) representa 0,172% de todas as transações.\n",
        "\n",
        "É importante informar que o dataset passou por uma transformação com o intuito de diminuir a dimensinalidade dos dados, com o intuito de . A tranformação adotada é conhecida como [PCA](https://pt.wikipedia.org/wiki/An%C3%A1lise_de_componentes_principais) (Principal Component Analysis) . Essa transformação teve por finalidade não fornecer os dados originais dos clientes evitando  problemas de confidencialidade."
      ]
    },
    {
      "cell_type": "markdown",
      "metadata": {
        "colab_type": "text",
        "id": "j1dyX0JxfX9y"
      },
      "source": [
        "**Importando os e lendo os dados**"
      ]
    },
    {
      "cell_type": "code",
      "metadata": {
        "id": "5y9umMITOugj",
        "colab_type": "code",
        "colab": {
          "base_uri": "https://localhost:8080/",
          "height": 119
        },
        "outputId": "4bd26973-c242-4e3f-8244-16235d29f854"
      },
      "source": [
        "!pip install imblearn"
      ],
      "execution_count": null,
      "outputs": [
        {
          "output_type": "stream",
          "text": [
            "Requirement already satisfied: imblearn in /usr/local/lib/python3.6/dist-packages (0.0)\n",
            "Requirement already satisfied: imbalanced-learn in /usr/local/lib/python3.6/dist-packages (from imblearn) (0.4.3)\n",
            "Requirement already satisfied: numpy>=1.8.2 in /usr/local/lib/python3.6/dist-packages (from imbalanced-learn->imblearn) (1.18.5)\n",
            "Requirement already satisfied: scikit-learn>=0.20 in /usr/local/lib/python3.6/dist-packages (from imbalanced-learn->imblearn) (0.22.2.post1)\n",
            "Requirement already satisfied: scipy>=0.13.3 in /usr/local/lib/python3.6/dist-packages (from imbalanced-learn->imblearn) (1.4.1)\n",
            "Requirement already satisfied: joblib>=0.11 in /usr/local/lib/python3.6/dist-packages (from scikit-learn>=0.20->imbalanced-learn->imblearn) (0.16.0)\n"
          ],
          "name": "stdout"
        }
      ]
    },
    {
      "cell_type": "code",
      "metadata": {
        "colab_type": "code",
        "id": "mLr7EIbWrhsY",
        "colab": {}
      },
      "source": [
        "# importando as bibliotecas necessárias\n",
        "import warnings\n",
        "warnings.filterwarnings(\"ignore\")\n",
        " \n",
        "import pandas as pd\n",
        "import numpy as np\n",
        "import missingno as msno\n",
        "import matplotlib.pyplot as plt\n",
        "import seaborn as sns\n",
        "# estilo dos gráficos com seaborn\n",
        "sns.set_style('dark')\n",
        " \n",
        "from itertools import combinations \n",
        "from sklearn.preprocessing import PolynomialFeatures\n",
        " \n",
        "from sklearn.preprocessing import RobustScaler\n",
        "from imblearn.over_sampling import RandomOverSampler\n",
        "from sklearn.utils.class_weight import compute_class_weight\n",
        " \n",
        "from sklearn.model_selection import train_test_split\n",
        "from sklearn.model_selection import KFold, StratifiedKFold, RandomizedSearchCV, cross_val_score\n",
        "from sklearn.feature_selection import SelectFromModel\n",
        " \n",
        "from sklearn.ensemble import RandomForestClassifier\n",
        " \n",
        " \n",
        "from sklearn.metrics import precision_score, recall_score, f1_score, roc_auc_score, accuracy_score, classification_report, confusion_matrix"
      ],
      "execution_count": null,
      "outputs": []
    },
    {
      "cell_type": "code",
      "metadata": {
        "id": "TSoMYZudKdKR",
        "colab_type": "code",
        "colab": {
          "base_uri": "https://localhost:8080/",
          "height": 122
        },
        "outputId": "081227cc-c6c5-443e-d1dd-7b191241d7d9"
      },
      "source": [
        "from google.colab import drive\n",
        "drive.mount('/content/drive')"
      ],
      "execution_count": null,
      "outputs": [
        {
          "output_type": "stream",
          "text": [
            "Go to this URL in a browser: https://accounts.google.com/o/oauth2/auth?client_id=947318989803-6bn6qk8qdgf4n4g3pfee6491hc0brc4i.apps.googleusercontent.com&redirect_uri=urn%3aietf%3awg%3aoauth%3a2.0%3aoob&response_type=code&scope=email%20https%3a%2f%2fwww.googleapis.com%2fauth%2fdocs.test%20https%3a%2f%2fwww.googleapis.com%2fauth%2fdrive%20https%3a%2f%2fwww.googleapis.com%2fauth%2fdrive.photos.readonly%20https%3a%2f%2fwww.googleapis.com%2fauth%2fpeopleapi.readonly\n",
            "\n",
            "Enter your authorization code:\n",
            "··········\n",
            "Mounted at /content/drive\n"
          ],
          "name": "stdout"
        }
      ]
    },
    {
      "cell_type": "code",
      "metadata": {
        "colab_type": "code",
        "id": "1TQmdxGgrujd",
        "colab": {
          "base_uri": "https://localhost:8080/",
          "height": 224
        },
        "outputId": "096c5136-f6d9-43da-8d9f-f4ae2d87932f"
      },
      "source": [
        "# Importando e visualizando os dados\n",
        "df = pd.read_csv('/content/drive/My Drive/Colab Notebooks/Datasets/creditcard.csv', sep=',')\n",
        " \n",
        "df.head()"
      ],
      "execution_count": null,
      "outputs": [
        {
          "output_type": "execute_result",
          "data": {
            "text/html": [
              "<div>\n",
              "<style scoped>\n",
              "    .dataframe tbody tr th:only-of-type {\n",
              "        vertical-align: middle;\n",
              "    }\n",
              "\n",
              "    .dataframe tbody tr th {\n",
              "        vertical-align: top;\n",
              "    }\n",
              "\n",
              "    .dataframe thead th {\n",
              "        text-align: right;\n",
              "    }\n",
              "</style>\n",
              "<table border=\"1\" class=\"dataframe\">\n",
              "  <thead>\n",
              "    <tr style=\"text-align: right;\">\n",
              "      <th></th>\n",
              "      <th>Time</th>\n",
              "      <th>V1</th>\n",
              "      <th>V2</th>\n",
              "      <th>V3</th>\n",
              "      <th>V4</th>\n",
              "      <th>V5</th>\n",
              "      <th>V6</th>\n",
              "      <th>V7</th>\n",
              "      <th>V8</th>\n",
              "      <th>V9</th>\n",
              "      <th>V10</th>\n",
              "      <th>V11</th>\n",
              "      <th>V12</th>\n",
              "      <th>V13</th>\n",
              "      <th>V14</th>\n",
              "      <th>V15</th>\n",
              "      <th>V16</th>\n",
              "      <th>V17</th>\n",
              "      <th>V18</th>\n",
              "      <th>V19</th>\n",
              "      <th>V20</th>\n",
              "      <th>V21</th>\n",
              "      <th>V22</th>\n",
              "      <th>V23</th>\n",
              "      <th>V24</th>\n",
              "      <th>V25</th>\n",
              "      <th>V26</th>\n",
              "      <th>V27</th>\n",
              "      <th>V28</th>\n",
              "      <th>Amount</th>\n",
              "      <th>Class</th>\n",
              "    </tr>\n",
              "  </thead>\n",
              "  <tbody>\n",
              "    <tr>\n",
              "      <th>0</th>\n",
              "      <td>0.0</td>\n",
              "      <td>-1.359807</td>\n",
              "      <td>-0.072781</td>\n",
              "      <td>2.536347</td>\n",
              "      <td>1.378155</td>\n",
              "      <td>-0.338321</td>\n",
              "      <td>0.462388</td>\n",
              "      <td>0.239599</td>\n",
              "      <td>0.098698</td>\n",
              "      <td>0.363787</td>\n",
              "      <td>0.090794</td>\n",
              "      <td>-0.551600</td>\n",
              "      <td>-0.617801</td>\n",
              "      <td>-0.991390</td>\n",
              "      <td>-0.311169</td>\n",
              "      <td>1.468177</td>\n",
              "      <td>-0.470401</td>\n",
              "      <td>0.207971</td>\n",
              "      <td>0.025791</td>\n",
              "      <td>0.403993</td>\n",
              "      <td>0.251412</td>\n",
              "      <td>-0.018307</td>\n",
              "      <td>0.277838</td>\n",
              "      <td>-0.110474</td>\n",
              "      <td>0.066928</td>\n",
              "      <td>0.128539</td>\n",
              "      <td>-0.189115</td>\n",
              "      <td>0.133558</td>\n",
              "      <td>-0.021053</td>\n",
              "      <td>149.62</td>\n",
              "      <td>0</td>\n",
              "    </tr>\n",
              "    <tr>\n",
              "      <th>1</th>\n",
              "      <td>0.0</td>\n",
              "      <td>1.191857</td>\n",
              "      <td>0.266151</td>\n",
              "      <td>0.166480</td>\n",
              "      <td>0.448154</td>\n",
              "      <td>0.060018</td>\n",
              "      <td>-0.082361</td>\n",
              "      <td>-0.078803</td>\n",
              "      <td>0.085102</td>\n",
              "      <td>-0.255425</td>\n",
              "      <td>-0.166974</td>\n",
              "      <td>1.612727</td>\n",
              "      <td>1.065235</td>\n",
              "      <td>0.489095</td>\n",
              "      <td>-0.143772</td>\n",
              "      <td>0.635558</td>\n",
              "      <td>0.463917</td>\n",
              "      <td>-0.114805</td>\n",
              "      <td>-0.183361</td>\n",
              "      <td>-0.145783</td>\n",
              "      <td>-0.069083</td>\n",
              "      <td>-0.225775</td>\n",
              "      <td>-0.638672</td>\n",
              "      <td>0.101288</td>\n",
              "      <td>-0.339846</td>\n",
              "      <td>0.167170</td>\n",
              "      <td>0.125895</td>\n",
              "      <td>-0.008983</td>\n",
              "      <td>0.014724</td>\n",
              "      <td>2.69</td>\n",
              "      <td>0</td>\n",
              "    </tr>\n",
              "    <tr>\n",
              "      <th>2</th>\n",
              "      <td>1.0</td>\n",
              "      <td>-1.358354</td>\n",
              "      <td>-1.340163</td>\n",
              "      <td>1.773209</td>\n",
              "      <td>0.379780</td>\n",
              "      <td>-0.503198</td>\n",
              "      <td>1.800499</td>\n",
              "      <td>0.791461</td>\n",
              "      <td>0.247676</td>\n",
              "      <td>-1.514654</td>\n",
              "      <td>0.207643</td>\n",
              "      <td>0.624501</td>\n",
              "      <td>0.066084</td>\n",
              "      <td>0.717293</td>\n",
              "      <td>-0.165946</td>\n",
              "      <td>2.345865</td>\n",
              "      <td>-2.890083</td>\n",
              "      <td>1.109969</td>\n",
              "      <td>-0.121359</td>\n",
              "      <td>-2.261857</td>\n",
              "      <td>0.524980</td>\n",
              "      <td>0.247998</td>\n",
              "      <td>0.771679</td>\n",
              "      <td>0.909412</td>\n",
              "      <td>-0.689281</td>\n",
              "      <td>-0.327642</td>\n",
              "      <td>-0.139097</td>\n",
              "      <td>-0.055353</td>\n",
              "      <td>-0.059752</td>\n",
              "      <td>378.66</td>\n",
              "      <td>0</td>\n",
              "    </tr>\n",
              "    <tr>\n",
              "      <th>3</th>\n",
              "      <td>1.0</td>\n",
              "      <td>-0.966272</td>\n",
              "      <td>-0.185226</td>\n",
              "      <td>1.792993</td>\n",
              "      <td>-0.863291</td>\n",
              "      <td>-0.010309</td>\n",
              "      <td>1.247203</td>\n",
              "      <td>0.237609</td>\n",
              "      <td>0.377436</td>\n",
              "      <td>-1.387024</td>\n",
              "      <td>-0.054952</td>\n",
              "      <td>-0.226487</td>\n",
              "      <td>0.178228</td>\n",
              "      <td>0.507757</td>\n",
              "      <td>-0.287924</td>\n",
              "      <td>-0.631418</td>\n",
              "      <td>-1.059647</td>\n",
              "      <td>-0.684093</td>\n",
              "      <td>1.965775</td>\n",
              "      <td>-1.232622</td>\n",
              "      <td>-0.208038</td>\n",
              "      <td>-0.108300</td>\n",
              "      <td>0.005274</td>\n",
              "      <td>-0.190321</td>\n",
              "      <td>-1.175575</td>\n",
              "      <td>0.647376</td>\n",
              "      <td>-0.221929</td>\n",
              "      <td>0.062723</td>\n",
              "      <td>0.061458</td>\n",
              "      <td>123.50</td>\n",
              "      <td>0</td>\n",
              "    </tr>\n",
              "    <tr>\n",
              "      <th>4</th>\n",
              "      <td>2.0</td>\n",
              "      <td>-1.158233</td>\n",
              "      <td>0.877737</td>\n",
              "      <td>1.548718</td>\n",
              "      <td>0.403034</td>\n",
              "      <td>-0.407193</td>\n",
              "      <td>0.095921</td>\n",
              "      <td>0.592941</td>\n",
              "      <td>-0.270533</td>\n",
              "      <td>0.817739</td>\n",
              "      <td>0.753074</td>\n",
              "      <td>-0.822843</td>\n",
              "      <td>0.538196</td>\n",
              "      <td>1.345852</td>\n",
              "      <td>-1.119670</td>\n",
              "      <td>0.175121</td>\n",
              "      <td>-0.451449</td>\n",
              "      <td>-0.237033</td>\n",
              "      <td>-0.038195</td>\n",
              "      <td>0.803487</td>\n",
              "      <td>0.408542</td>\n",
              "      <td>-0.009431</td>\n",
              "      <td>0.798278</td>\n",
              "      <td>-0.137458</td>\n",
              "      <td>0.141267</td>\n",
              "      <td>-0.206010</td>\n",
              "      <td>0.502292</td>\n",
              "      <td>0.219422</td>\n",
              "      <td>0.215153</td>\n",
              "      <td>69.99</td>\n",
              "      <td>0</td>\n",
              "    </tr>\n",
              "  </tbody>\n",
              "</table>\n",
              "</div>"
            ],
            "text/plain": [
              "   Time        V1        V2        V3  ...       V27       V28  Amount  Class\n",
              "0   0.0 -1.359807 -0.072781  2.536347  ...  0.133558 -0.021053  149.62      0\n",
              "1   0.0  1.191857  0.266151  0.166480  ... -0.008983  0.014724    2.69      0\n",
              "2   1.0 -1.358354 -1.340163  1.773209  ... -0.055353 -0.059752  378.66      0\n",
              "3   1.0 -0.966272 -0.185226  1.792993  ...  0.062723  0.061458  123.50      0\n",
              "4   2.0 -1.158233  0.877737  1.548718  ...  0.219422  0.215153   69.99      0\n",
              "\n",
              "[5 rows x 31 columns]"
            ]
          },
          "metadata": {
            "tags": []
          },
          "execution_count": 6
        }
      ]
    },
    {
      "cell_type": "markdown",
      "metadata": {
        "colab_type": "text",
        "id": "1a-Ix9HsWcT-"
      },
      "source": [
        "## **Análise Exploratória dos Dados**  "
      ]
    },
    {
      "cell_type": "code",
      "metadata": {
        "code_folding": [],
        "colab_type": "code",
        "id": "d1Nt5GsfspU2",
        "colab": {
          "base_uri": "https://localhost:8080/",
          "height": 68
        },
        "outputId": "bc4e133c-c5af-4150-ae01-0dcc3e5bcc5c"
      },
      "source": [
        "print('Dimensões:')\n",
        "print(f'Linhas:  {df.shape[0]}')\n",
        "print(f'Colunas:  {df.shape[1]}')"
      ],
      "execution_count": null,
      "outputs": [
        {
          "output_type": "stream",
          "text": [
            "Dimensões:\n",
            "Linhas:  284807\n",
            "Colunas:  31\n"
          ],
          "name": "stdout"
        }
      ]
    },
    {
      "cell_type": "code",
      "metadata": {
        "colab_type": "code",
        "id": "3wezO4y9TKFl",
        "colab": {
          "base_uri": "https://localhost:8080/",
          "height": 102
        },
        "outputId": "7a641290-3aaa-4c28-de9a-600cc0c0e132"
      },
      "source": [
        "df.columns"
      ],
      "execution_count": null,
      "outputs": [
        {
          "output_type": "execute_result",
          "data": {
            "text/plain": [
              "Index(['Time', 'V1', 'V2', 'V3', 'V4', 'V5', 'V6', 'V7', 'V8', 'V9', 'V10',\n",
              "       'V11', 'V12', 'V13', 'V14', 'V15', 'V16', 'V17', 'V18', 'V19', 'V20',\n",
              "       'V21', 'V22', 'V23', 'V24', 'V25', 'V26', 'V27', 'V28', 'Amount',\n",
              "       'Class'],\n",
              "      dtype='object')"
            ]
          },
          "metadata": {
            "tags": []
          },
          "execution_count": 8
        }
      ]
    },
    {
      "cell_type": "markdown",
      "metadata": {
        "id": "fDwGPowyOui0",
        "colab_type": "text"
      },
      "source": [
        "Podemos observar que as únicas colunas que não passaram por transformação foram 'Time', 'Amount' e 'Class', sendo essa última nossa variável alvo.\n",
        "\n",
        "No Kaggle é informado os significados dessas variáveis:\n",
        "\n",
        "- **`Time`:** contém os segundos decorridos entre cada transação e a primeira transação ;\n",
        "- **`Amount`:** é o valor da transação;"
      ]
    },
    {
      "cell_type": "code",
      "metadata": {
        "colab_type": "code",
        "id": "JI09rKoduKmA",
        "colab": {
          "base_uri": "https://localhost:8080/",
          "height": 663
        },
        "outputId": "9778a9c9-1ca2-4950-fa2a-6578a9510812"
      },
      "source": [
        "df.info()"
      ],
      "execution_count": null,
      "outputs": [
        {
          "output_type": "stream",
          "text": [
            "<class 'pandas.core.frame.DataFrame'>\n",
            "RangeIndex: 284807 entries, 0 to 284806\n",
            "Data columns (total 31 columns):\n",
            " #   Column  Non-Null Count   Dtype  \n",
            "---  ------  --------------   -----  \n",
            " 0   Time    284807 non-null  float64\n",
            " 1   V1      284807 non-null  float64\n",
            " 2   V2      284807 non-null  float64\n",
            " 3   V3      284807 non-null  float64\n",
            " 4   V4      284807 non-null  float64\n",
            " 5   V5      284807 non-null  float64\n",
            " 6   V6      284807 non-null  float64\n",
            " 7   V7      284807 non-null  float64\n",
            " 8   V8      284807 non-null  float64\n",
            " 9   V9      284807 non-null  float64\n",
            " 10  V10     284807 non-null  float64\n",
            " 11  V11     284807 non-null  float64\n",
            " 12  V12     284807 non-null  float64\n",
            " 13  V13     284807 non-null  float64\n",
            " 14  V14     284807 non-null  float64\n",
            " 15  V15     284807 non-null  float64\n",
            " 16  V16     284807 non-null  float64\n",
            " 17  V17     284807 non-null  float64\n",
            " 18  V18     284807 non-null  float64\n",
            " 19  V19     284807 non-null  float64\n",
            " 20  V20     284807 non-null  float64\n",
            " 21  V21     284807 non-null  float64\n",
            " 22  V22     284807 non-null  float64\n",
            " 23  V23     284807 non-null  float64\n",
            " 24  V24     284807 non-null  float64\n",
            " 25  V25     284807 non-null  float64\n",
            " 26  V26     284807 non-null  float64\n",
            " 27  V27     284807 non-null  float64\n",
            " 28  V28     284807 non-null  float64\n",
            " 29  Amount  284807 non-null  float64\n",
            " 30  Class   284807 non-null  int64  \n",
            "dtypes: float64(30), int64(1)\n",
            "memory usage: 67.4 MB\n"
          ],
          "name": "stdout"
        }
      ]
    },
    {
      "cell_type": "code",
      "metadata": {
        "colab_type": "code",
        "id": "_P3S8Bo2uNCc",
        "colab": {
          "base_uri": "https://localhost:8080/",
          "height": 537
        },
        "outputId": "bdab47b7-f843-4d88-9a7f-ee0ab35a42d3"
      },
      "source": [
        "# Verificando a existência de valores faltantes\n",
        "msno.matrix(df);"
      ],
      "execution_count": null,
      "outputs": [
        {
          "output_type": "display_data",
          "data": {
            "image/png": "[encoded data removed]",
            "text/plain": [
              "<Figure size 1800x720 with 2 Axes>"
            ]
          },
          "metadata": {
            "tags": []
          }
        }
      ]
    },
    {
      "cell_type": "markdown",
      "metadata": {
        "id": "DOPta_pkOuks",
        "colab_type": "text"
      },
      "source": [
        "Aparentemente uma linha possui valores faltantes em nosso dataset.\n",
        "Por se tratar de apenas uma irei excluí-la. "
      ]
    },
    {
      "cell_type": "code",
      "metadata": {
        "id": "i9SNnvK0VLt7",
        "colab_type": "code",
        "colab": {}
      },
      "source": [
        "df = df.dropna( axis=0, how='any', thresh=None, subset=None, inplace=False)"
      ],
      "execution_count": null,
      "outputs": []
    },
    {
      "cell_type": "code",
      "metadata": {
        "colab_type": "code",
        "id": "305VWtX9uRIt",
        "colab": {
          "base_uri": "https://localhost:8080/",
          "height": 317
        },
        "outputId": "f6aaa607-2f6f-4303-dc09-6132edcabc9d"
      },
      "source": [
        "# Resumo Estatístico\n",
        "df.describe()"
      ],
      "execution_count": null,
      "outputs": [
        {
          "output_type": "execute_result",
          "data": {
            "text/html": [
              "<div>\n",
              "<style scoped>\n",
              "    .dataframe tbody tr th:only-of-type {\n",
              "        vertical-align: middle;\n",
              "    }\n",
              "\n",
              "    .dataframe tbody tr th {\n",
              "        vertical-align: top;\n",
              "    }\n",
              "\n",
              "    .dataframe thead th {\n",
              "        text-align: right;\n",
              "    }\n",
              "</style>\n",
              "<table border=\"1\" class=\"dataframe\">\n",
              "  <thead>\n",
              "    <tr style=\"text-align: right;\">\n",
              "      <th></th>\n",
              "      <th>Time</th>\n",
              "      <th>V1</th>\n",
              "      <th>V2</th>\n",
              "      <th>V3</th>\n",
              "      <th>V4</th>\n",
              "      <th>V5</th>\n",
              "      <th>V6</th>\n",
              "      <th>V7</th>\n",
              "      <th>V8</th>\n",
              "      <th>V9</th>\n",
              "      <th>V10</th>\n",
              "      <th>V11</th>\n",
              "      <th>V12</th>\n",
              "      <th>V13</th>\n",
              "      <th>V14</th>\n",
              "      <th>V15</th>\n",
              "      <th>V16</th>\n",
              "      <th>V17</th>\n",
              "      <th>V18</th>\n",
              "      <th>V19</th>\n",
              "      <th>V20</th>\n",
              "      <th>V21</th>\n",
              "      <th>V22</th>\n",
              "      <th>V23</th>\n",
              "      <th>V24</th>\n",
              "      <th>V25</th>\n",
              "      <th>V26</th>\n",
              "      <th>V27</th>\n",
              "      <th>V28</th>\n",
              "      <th>Amount</th>\n",
              "      <th>Class</th>\n",
              "    </tr>\n",
              "  </thead>\n",
              "  <tbody>\n",
              "    <tr>\n",
              "      <th>count</th>\n",
              "      <td>284807.000000</td>\n",
              "      <td>2.848070e+05</td>\n",
              "      <td>2.848070e+05</td>\n",
              "      <td>2.848070e+05</td>\n",
              "      <td>2.848070e+05</td>\n",
              "      <td>2.848070e+05</td>\n",
              "      <td>2.848070e+05</td>\n",
              "      <td>2.848070e+05</td>\n",
              "      <td>2.848070e+05</td>\n",
              "      <td>2.848070e+05</td>\n",
              "      <td>2.848070e+05</td>\n",
              "      <td>2.848070e+05</td>\n",
              "      <td>2.848070e+05</td>\n",
              "      <td>2.848070e+05</td>\n",
              "      <td>2.848070e+05</td>\n",
              "      <td>2.848070e+05</td>\n",
              "      <td>2.848070e+05</td>\n",
              "      <td>2.848070e+05</td>\n",
              "      <td>2.848070e+05</td>\n",
              "      <td>2.848070e+05</td>\n",
              "      <td>2.848070e+05</td>\n",
              "      <td>2.848070e+05</td>\n",
              "      <td>2.848070e+05</td>\n",
              "      <td>2.848070e+05</td>\n",
              "      <td>2.848070e+05</td>\n",
              "      <td>2.848070e+05</td>\n",
              "      <td>2.848070e+05</td>\n",
              "      <td>2.848070e+05</td>\n",
              "      <td>2.848070e+05</td>\n",
              "      <td>284807.000000</td>\n",
              "      <td>284807.000000</td>\n",
              "    </tr>\n",
              "    <tr>\n",
              "      <th>mean</th>\n",
              "      <td>94813.859575</td>\n",
              "      <td>3.919560e-15</td>\n",
              "      <td>5.688174e-16</td>\n",
              "      <td>-8.769071e-15</td>\n",
              "      <td>2.782312e-15</td>\n",
              "      <td>-1.552563e-15</td>\n",
              "      <td>2.010663e-15</td>\n",
              "      <td>-1.694249e-15</td>\n",
              "      <td>-1.927028e-16</td>\n",
              "      <td>-3.137024e-15</td>\n",
              "      <td>1.768627e-15</td>\n",
              "      <td>9.170318e-16</td>\n",
              "      <td>-1.810658e-15</td>\n",
              "      <td>1.693438e-15</td>\n",
              "      <td>1.479045e-15</td>\n",
              "      <td>3.482336e-15</td>\n",
              "      <td>1.392007e-15</td>\n",
              "      <td>-7.528491e-16</td>\n",
              "      <td>4.328772e-16</td>\n",
              "      <td>9.049732e-16</td>\n",
              "      <td>5.085503e-16</td>\n",
              "      <td>1.537294e-16</td>\n",
              "      <td>7.959909e-16</td>\n",
              "      <td>5.367590e-16</td>\n",
              "      <td>4.458112e-15</td>\n",
              "      <td>1.453003e-15</td>\n",
              "      <td>1.699104e-15</td>\n",
              "      <td>-3.660161e-16</td>\n",
              "      <td>-1.206049e-16</td>\n",
              "      <td>88.349619</td>\n",
              "      <td>0.001727</td>\n",
              "    </tr>\n",
              "    <tr>\n",
              "      <th>std</th>\n",
              "      <td>47488.145955</td>\n",
              "      <td>1.958696e+00</td>\n",
              "      <td>1.651309e+00</td>\n",
              "      <td>1.516255e+00</td>\n",
              "      <td>1.415869e+00</td>\n",
              "      <td>1.380247e+00</td>\n",
              "      <td>1.332271e+00</td>\n",
              "      <td>1.237094e+00</td>\n",
              "      <td>1.194353e+00</td>\n",
              "      <td>1.098632e+00</td>\n",
              "      <td>1.088850e+00</td>\n",
              "      <td>1.020713e+00</td>\n",
              "      <td>9.992014e-01</td>\n",
              "      <td>9.952742e-01</td>\n",
              "      <td>9.585956e-01</td>\n",
              "      <td>9.153160e-01</td>\n",
              "      <td>8.762529e-01</td>\n",
              "      <td>8.493371e-01</td>\n",
              "      <td>8.381762e-01</td>\n",
              "      <td>8.140405e-01</td>\n",
              "      <td>7.709250e-01</td>\n",
              "      <td>7.345240e-01</td>\n",
              "      <td>7.257016e-01</td>\n",
              "      <td>6.244603e-01</td>\n",
              "      <td>6.056471e-01</td>\n",
              "      <td>5.212781e-01</td>\n",
              "      <td>4.822270e-01</td>\n",
              "      <td>4.036325e-01</td>\n",
              "      <td>3.300833e-01</td>\n",
              "      <td>250.120109</td>\n",
              "      <td>0.041527</td>\n",
              "    </tr>\n",
              "    <tr>\n",
              "      <th>min</th>\n",
              "      <td>0.000000</td>\n",
              "      <td>-5.640751e+01</td>\n",
              "      <td>-7.271573e+01</td>\n",
              "      <td>-4.832559e+01</td>\n",
              "      <td>-5.683171e+00</td>\n",
              "      <td>-1.137433e+02</td>\n",
              "      <td>-2.616051e+01</td>\n",
              "      <td>-4.355724e+01</td>\n",
              "      <td>-7.321672e+01</td>\n",
              "      <td>-1.343407e+01</td>\n",
              "      <td>-2.458826e+01</td>\n",
              "      <td>-4.797473e+00</td>\n",
              "      <td>-1.868371e+01</td>\n",
              "      <td>-5.791881e+00</td>\n",
              "      <td>-1.921433e+01</td>\n",
              "      <td>-4.498945e+00</td>\n",
              "      <td>-1.412985e+01</td>\n",
              "      <td>-2.516280e+01</td>\n",
              "      <td>-9.498746e+00</td>\n",
              "      <td>-7.213527e+00</td>\n",
              "      <td>-5.449772e+01</td>\n",
              "      <td>-3.483038e+01</td>\n",
              "      <td>-1.093314e+01</td>\n",
              "      <td>-4.480774e+01</td>\n",
              "      <td>-2.836627e+00</td>\n",
              "      <td>-1.029540e+01</td>\n",
              "      <td>-2.604551e+00</td>\n",
              "      <td>-2.256568e+01</td>\n",
              "      <td>-1.543008e+01</td>\n",
              "      <td>0.000000</td>\n",
              "      <td>0.000000</td>\n",
              "    </tr>\n",
              "    <tr>\n",
              "      <th>25%</th>\n",
              "      <td>54201.500000</td>\n",
              "      <td>-9.203734e-01</td>\n",
              "      <td>-5.985499e-01</td>\n",
              "      <td>-8.903648e-01</td>\n",
              "      <td>-8.486401e-01</td>\n",
              "      <td>-6.915971e-01</td>\n",
              "      <td>-7.682956e-01</td>\n",
              "      <td>-5.540759e-01</td>\n",
              "      <td>-2.086297e-01</td>\n",
              "      <td>-6.430976e-01</td>\n",
              "      <td>-5.354257e-01</td>\n",
              "      <td>-7.624942e-01</td>\n",
              "      <td>-4.055715e-01</td>\n",
              "      <td>-6.485393e-01</td>\n",
              "      <td>-4.255740e-01</td>\n",
              "      <td>-5.828843e-01</td>\n",
              "      <td>-4.680368e-01</td>\n",
              "      <td>-4.837483e-01</td>\n",
              "      <td>-4.988498e-01</td>\n",
              "      <td>-4.562989e-01</td>\n",
              "      <td>-2.117214e-01</td>\n",
              "      <td>-2.283949e-01</td>\n",
              "      <td>-5.423504e-01</td>\n",
              "      <td>-1.618463e-01</td>\n",
              "      <td>-3.545861e-01</td>\n",
              "      <td>-3.171451e-01</td>\n",
              "      <td>-3.269839e-01</td>\n",
              "      <td>-7.083953e-02</td>\n",
              "      <td>-5.295979e-02</td>\n",
              "      <td>5.600000</td>\n",
              "      <td>0.000000</td>\n",
              "    </tr>\n",
              "    <tr>\n",
              "      <th>50%</th>\n",
              "      <td>84692.000000</td>\n",
              "      <td>1.810880e-02</td>\n",
              "      <td>6.548556e-02</td>\n",
              "      <td>1.798463e-01</td>\n",
              "      <td>-1.984653e-02</td>\n",
              "      <td>-5.433583e-02</td>\n",
              "      <td>-2.741871e-01</td>\n",
              "      <td>4.010308e-02</td>\n",
              "      <td>2.235804e-02</td>\n",
              "      <td>-5.142873e-02</td>\n",
              "      <td>-9.291738e-02</td>\n",
              "      <td>-3.275735e-02</td>\n",
              "      <td>1.400326e-01</td>\n",
              "      <td>-1.356806e-02</td>\n",
              "      <td>5.060132e-02</td>\n",
              "      <td>4.807155e-02</td>\n",
              "      <td>6.641332e-02</td>\n",
              "      <td>-6.567575e-02</td>\n",
              "      <td>-3.636312e-03</td>\n",
              "      <td>3.734823e-03</td>\n",
              "      <td>-6.248109e-02</td>\n",
              "      <td>-2.945017e-02</td>\n",
              "      <td>6.781943e-03</td>\n",
              "      <td>-1.119293e-02</td>\n",
              "      <td>4.097606e-02</td>\n",
              "      <td>1.659350e-02</td>\n",
              "      <td>-5.213911e-02</td>\n",
              "      <td>1.342146e-03</td>\n",
              "      <td>1.124383e-02</td>\n",
              "      <td>22.000000</td>\n",
              "      <td>0.000000</td>\n",
              "    </tr>\n",
              "    <tr>\n",
              "      <th>75%</th>\n",
              "      <td>139320.500000</td>\n",
              "      <td>1.315642e+00</td>\n",
              "      <td>8.037239e-01</td>\n",
              "      <td>1.027196e+00</td>\n",
              "      <td>7.433413e-01</td>\n",
              "      <td>6.119264e-01</td>\n",
              "      <td>3.985649e-01</td>\n",
              "      <td>5.704361e-01</td>\n",
              "      <td>3.273459e-01</td>\n",
              "      <td>5.971390e-01</td>\n",
              "      <td>4.539234e-01</td>\n",
              "      <td>7.395934e-01</td>\n",
              "      <td>6.182380e-01</td>\n",
              "      <td>6.625050e-01</td>\n",
              "      <td>4.931498e-01</td>\n",
              "      <td>6.488208e-01</td>\n",
              "      <td>5.232963e-01</td>\n",
              "      <td>3.996750e-01</td>\n",
              "      <td>5.008067e-01</td>\n",
              "      <td>4.589494e-01</td>\n",
              "      <td>1.330408e-01</td>\n",
              "      <td>1.863772e-01</td>\n",
              "      <td>5.285536e-01</td>\n",
              "      <td>1.476421e-01</td>\n",
              "      <td>4.395266e-01</td>\n",
              "      <td>3.507156e-01</td>\n",
              "      <td>2.409522e-01</td>\n",
              "      <td>9.104512e-02</td>\n",
              "      <td>7.827995e-02</td>\n",
              "      <td>77.165000</td>\n",
              "      <td>0.000000</td>\n",
              "    </tr>\n",
              "    <tr>\n",
              "      <th>max</th>\n",
              "      <td>172792.000000</td>\n",
              "      <td>2.454930e+00</td>\n",
              "      <td>2.205773e+01</td>\n",
              "      <td>9.382558e+00</td>\n",
              "      <td>1.687534e+01</td>\n",
              "      <td>3.480167e+01</td>\n",
              "      <td>7.330163e+01</td>\n",
              "      <td>1.205895e+02</td>\n",
              "      <td>2.000721e+01</td>\n",
              "      <td>1.559499e+01</td>\n",
              "      <td>2.374514e+01</td>\n",
              "      <td>1.201891e+01</td>\n",
              "      <td>7.848392e+00</td>\n",
              "      <td>7.126883e+00</td>\n",
              "      <td>1.052677e+01</td>\n",
              "      <td>8.877742e+00</td>\n",
              "      <td>1.731511e+01</td>\n",
              "      <td>9.253526e+00</td>\n",
              "      <td>5.041069e+00</td>\n",
              "      <td>5.591971e+00</td>\n",
              "      <td>3.942090e+01</td>\n",
              "      <td>2.720284e+01</td>\n",
              "      <td>1.050309e+01</td>\n",
              "      <td>2.252841e+01</td>\n",
              "      <td>4.584549e+00</td>\n",
              "      <td>7.519589e+00</td>\n",
              "      <td>3.517346e+00</td>\n",
              "      <td>3.161220e+01</td>\n",
              "      <td>3.384781e+01</td>\n",
              "      <td>25691.160000</td>\n",
              "      <td>1.000000</td>\n",
              "    </tr>\n",
              "  </tbody>\n",
              "</table>\n",
              "</div>"
            ],
            "text/plain": [
              "                Time            V1  ...         Amount          Class\n",
              "count  284807.000000  2.848070e+05  ...  284807.000000  284807.000000\n",
              "mean    94813.859575  3.919560e-15  ...      88.349619       0.001727\n",
              "std     47488.145955  1.958696e+00  ...     250.120109       0.041527\n",
              "min         0.000000 -5.640751e+01  ...       0.000000       0.000000\n",
              "25%     54201.500000 -9.203734e-01  ...       5.600000       0.000000\n",
              "50%     84692.000000  1.810880e-02  ...      22.000000       0.000000\n",
              "75%    139320.500000  1.315642e+00  ...      77.165000       0.000000\n",
              "max    172792.000000  2.454930e+00  ...   25691.160000       1.000000\n",
              "\n",
              "[8 rows x 31 columns]"
            ]
          },
          "metadata": {
            "tags": []
          },
          "execution_count": 12
        }
      ]
    },
    {
      "cell_type": "code",
      "metadata": {
        "colab_type": "code",
        "id": "_OW1U6dTTdL8",
        "colab": {
          "base_uri": "https://localhost:8080/",
          "height": 398
        },
        "outputId": "49778954-4697-4ff4-d6b5-3acd96d83fe6"
      },
      "source": [
        "# Transações não fraudulentas e fraudulentas\n",
        "print('Não Fraudes: {}'.format((df['Class'].value_counts()[0])))\n",
        "print('Fraudes: {}'.format((df['Class'].value_counts()[1])))\n",
        "# Porcentagem \n",
        "print('\\nNão Fraudes: {:.2f}%'.format((df[df.Class == 0].shape[0] / df.shape[0]) * 100))\n",
        "print('Fraudes: {:.2f}% '.format((df[df.Class == 1].shape[0] / df.shape[0]) * 100))\n",
        " \n",
        "colors = [\"#addd8e\", \"#f03b20\"]\n",
        "ax = sns.countplot(x='Class', data=df, palette=colors)\n",
        "ax.set_title('Distribuição de Classes \\n (0: Não Fraude || 1: Fraude)', fontsize=14);"
      ],
      "execution_count": null,
      "outputs": [
        {
          "output_type": "stream",
          "text": [
            "Não Fraudes: 284315\n",
            "Fraudes: 492\n",
            "\n",
            "Não Fraudes: 99.83%\n",
            "Fraudes: 0.17% \n"
          ],
          "name": "stdout"
        },
        {
          "output_type": "display_data",
          "data": {
            "image/png": "[encoded data removed]",
            "text/plain": [
              "<Figure size 432x288 with 1 Axes>"
            ]
          },
          "metadata": {
            "tags": []
          }
        }
      ]
    },
    {
      "cell_type": "markdown",
      "metadata": {
        "id": "xxKDXns2Ouk8",
        "colab_type": "text"
      },
      "source": [
        "**Vamos avaliar a distribuição das transações em relação a variável \"Time\":**"
      ]
    },
    {
      "cell_type": "code",
      "metadata": {
        "colab_type": "code",
        "id": "6FE3T5h7V8K0",
        "colab": {
          "base_uri": "https://localhost:8080/",
          "height": 296
        },
        "outputId": "a9cd6c4b-4732-4fe5-bab6-4a65581ade85"
      },
      "source": [
        "# Comparando a distribuição das classes\n",
        "fig, ax = plt.subplots(1, 2, figsize=(18,4))\n",
        " \n",
        "class_0 = df.Time[df.Class == 0]\n",
        "class_1 = df.Time[df.Class == 1]\n",
        " \n",
        "sns.distplot(class_0, ax=ax[0], color='g', bins=40, kde=False)\n",
        "ax[0].set_title('Distribuição - Não Fraude', fontsize=14)\n",
        " \n",
        " \n",
        "sns.distplot(class_1, ax=ax[1], color='r', bins=40, kde=False)\n",
        "ax[1].set_title('Distribuição - Fraude', fontsize=14);"
      ],
      "execution_count": null,
      "outputs": [
        {
          "output_type": "display_data",
          "data": {
            "image/png": "[encoded data removed]",
            "text/plain": [
              "<Figure size 1296x288 with 2 Axes>"
            ]
          },
          "metadata": {
            "tags": []
          }
        }
      ]
    },
    {
      "cell_type": "markdown",
      "metadata": {
        "id": "8Ngyy_fNOunD",
        "colab_type": "text"
      },
      "source": [
        "**Agora vamos observar essa distribuição em relação ao valor da compra \"Amount\":**"
      ]
    },
    {
      "cell_type": "code",
      "metadata": {
        "colab_type": "code",
        "id": "hwkShi26wn30",
        "colab": {
          "base_uri": "https://localhost:8080/",
          "height": 729
        },
        "outputId": "8fbb8ae8-fea3-4526-b638-3d1aea6bb995"
      },
      "source": [
        "fig, ax = plt.subplots(figsize=(6,10), sharex=True)\n",
        "sns.boxplot(df.Class, df.Amount, showmeans=True, ax=ax)\n",
        "plt.ylim((-20, 400))\n",
        "plt.xticks([0, 1], ['Não Fraude', 'Fraude'])\n",
        "plt.title('Amount')\n",
        " \n",
        "plt.tight_layout()"
      ],
      "execution_count": null,
      "outputs": [
        {
          "output_type": "display_data",
          "data": {
            "image/png": "[encoded data removed]",
            "text/plain": [
              "<Figure size 432x720 with 1 Axes>"
            ]
          },
          "metadata": {
            "tags": []
          }
        }
      ]
    },
    {
      "cell_type": "markdown",
      "metadata": {
        "id": "ClWCCINvOunK",
        "colab_type": "text"
      },
      "source": [
        "Em ambas análises podemos observar algumas diferenças que podem ser interessantes para nosso modelo."
      ]
    },
    {
      "cell_type": "markdown",
      "metadata": {
        "colab_type": "text",
        "id": "rB0w1nsHYVwU"
      },
      "source": [
        "## **Preparando os Dados** "
      ]
    },
    {
      "cell_type": "markdown",
      "metadata": {
        "colab_type": "text",
        "id": "WeTG24diXasq"
      },
      "source": [
        "Para colocar as nossas variáveis na mesma ordem de gradeza, precisamos\n",
        "\n",
        "padronizar as variáveis *Amount* e *Time*.\n"
      ]
    },
    {
      "cell_type": "code",
      "metadata": {
        "colab_type": "code",
        "id": "wuDO2gH9XcRU",
        "colab": {}
      },
      "source": [
        "# RobustScaler é menos sensível a outliers\n",
        "rob_scaler = RobustScaler()\n",
        " \n",
        "df['scaled_amount'] = rob_scaler.fit_transform(df['Amount'].values.reshape(-1,1))\n",
        "df['scaled_time'] = rob_scaler.fit_transform(df['Time'].values.reshape(-1,1))\n",
        " \n",
        "df.drop(['Time','Amount'], axis=1, inplace=True)"
      ],
      "execution_count": null,
      "outputs": []
    },
    {
      "cell_type": "code",
      "metadata": {
        "colab_type": "code",
        "id": "fmWspDf6XxdC",
        "colab": {
          "base_uri": "https://localhost:8080/",
          "height": 224
        },
        "outputId": "7d486d86-0037-4eb5-e112-44b1e77f64be"
      },
      "source": [
        "scaled_amount = df['scaled_amount']\n",
        "scaled_time = df['scaled_time']\n",
        " \n",
        "df.drop(['scaled_amount', 'scaled_time'], axis=1, inplace=True)\n",
        "df.insert(0, 'scaled_amount', scaled_amount)\n",
        "df.insert(1, 'scaled_time', scaled_time)\n",
        " \n",
        "df.head()"
      ],
      "execution_count": null,
      "outputs": [
        {
          "output_type": "execute_result",
          "data": {
            "text/html": [
              "<div>\n",
              "<style scoped>\n",
              "    .dataframe tbody tr th:only-of-type {\n",
              "        vertical-align: middle;\n",
              "    }\n",
              "\n",
              "    .dataframe tbody tr th {\n",
              "        vertical-align: top;\n",
              "    }\n",
              "\n",
              "    .dataframe thead th {\n",
              "        text-align: right;\n",
              "    }\n",
              "</style>\n",
              "<table border=\"1\" class=\"dataframe\">\n",
              "  <thead>\n",
              "    <tr style=\"text-align: right;\">\n",
              "      <th></th>\n",
              "      <th>scaled_amount</th>\n",
              "      <th>scaled_time</th>\n",
              "      <th>V1</th>\n",
              "      <th>V2</th>\n",
              "      <th>V3</th>\n",
              "      <th>V4</th>\n",
              "      <th>V5</th>\n",
              "      <th>V6</th>\n",
              "      <th>V7</th>\n",
              "      <th>V8</th>\n",
              "      <th>V9</th>\n",
              "      <th>V10</th>\n",
              "      <th>V11</th>\n",
              "      <th>V12</th>\n",
              "      <th>V13</th>\n",
              "      <th>V14</th>\n",
              "      <th>V15</th>\n",
              "      <th>V16</th>\n",
              "      <th>V17</th>\n",
              "      <th>V18</th>\n",
              "      <th>V19</th>\n",
              "      <th>V20</th>\n",
              "      <th>V21</th>\n",
              "      <th>V22</th>\n",
              "      <th>V23</th>\n",
              "      <th>V24</th>\n",
              "      <th>V25</th>\n",
              "      <th>V26</th>\n",
              "      <th>V27</th>\n",
              "      <th>V28</th>\n",
              "      <th>Class</th>\n",
              "    </tr>\n",
              "  </thead>\n",
              "  <tbody>\n",
              "    <tr>\n",
              "      <th>0</th>\n",
              "      <td>1.783274</td>\n",
              "      <td>-0.994983</td>\n",
              "      <td>-1.359807</td>\n",
              "      <td>-0.072781</td>\n",
              "      <td>2.536347</td>\n",
              "      <td>1.378155</td>\n",
              "      <td>-0.338321</td>\n",
              "      <td>0.462388</td>\n",
              "      <td>0.239599</td>\n",
              "      <td>0.098698</td>\n",
              "      <td>0.363787</td>\n",
              "      <td>0.090794</td>\n",
              "      <td>-0.551600</td>\n",
              "      <td>-0.617801</td>\n",
              "      <td>-0.991390</td>\n",
              "      <td>-0.311169</td>\n",
              "      <td>1.468177</td>\n",
              "      <td>-0.470401</td>\n",
              "      <td>0.207971</td>\n",
              "      <td>0.025791</td>\n",
              "      <td>0.403993</td>\n",
              "      <td>0.251412</td>\n",
              "      <td>-0.018307</td>\n",
              "      <td>0.277838</td>\n",
              "      <td>-0.110474</td>\n",
              "      <td>0.066928</td>\n",
              "      <td>0.128539</td>\n",
              "      <td>-0.189115</td>\n",
              "      <td>0.133558</td>\n",
              "      <td>-0.021053</td>\n",
              "      <td>0</td>\n",
              "    </tr>\n",
              "    <tr>\n",
              "      <th>1</th>\n",
              "      <td>-0.269825</td>\n",
              "      <td>-0.994983</td>\n",
              "      <td>1.191857</td>\n",
              "      <td>0.266151</td>\n",
              "      <td>0.166480</td>\n",
              "      <td>0.448154</td>\n",
              "      <td>0.060018</td>\n",
              "      <td>-0.082361</td>\n",
              "      <td>-0.078803</td>\n",
              "      <td>0.085102</td>\n",
              "      <td>-0.255425</td>\n",
              "      <td>-0.166974</td>\n",
              "      <td>1.612727</td>\n",
              "      <td>1.065235</td>\n",
              "      <td>0.489095</td>\n",
              "      <td>-0.143772</td>\n",
              "      <td>0.635558</td>\n",
              "      <td>0.463917</td>\n",
              "      <td>-0.114805</td>\n",
              "      <td>-0.183361</td>\n",
              "      <td>-0.145783</td>\n",
              "      <td>-0.069083</td>\n",
              "      <td>-0.225775</td>\n",
              "      <td>-0.638672</td>\n",
              "      <td>0.101288</td>\n",
              "      <td>-0.339846</td>\n",
              "      <td>0.167170</td>\n",
              "      <td>0.125895</td>\n",
              "      <td>-0.008983</td>\n",
              "      <td>0.014724</td>\n",
              "      <td>0</td>\n",
              "    </tr>\n",
              "    <tr>\n",
              "      <th>2</th>\n",
              "      <td>4.983721</td>\n",
              "      <td>-0.994972</td>\n",
              "      <td>-1.358354</td>\n",
              "      <td>-1.340163</td>\n",
              "      <td>1.773209</td>\n",
              "      <td>0.379780</td>\n",
              "      <td>-0.503198</td>\n",
              "      <td>1.800499</td>\n",
              "      <td>0.791461</td>\n",
              "      <td>0.247676</td>\n",
              "      <td>-1.514654</td>\n",
              "      <td>0.207643</td>\n",
              "      <td>0.624501</td>\n",
              "      <td>0.066084</td>\n",
              "      <td>0.717293</td>\n",
              "      <td>-0.165946</td>\n",
              "      <td>2.345865</td>\n",
              "      <td>-2.890083</td>\n",
              "      <td>1.109969</td>\n",
              "      <td>-0.121359</td>\n",
              "      <td>-2.261857</td>\n",
              "      <td>0.524980</td>\n",
              "      <td>0.247998</td>\n",
              "      <td>0.771679</td>\n",
              "      <td>0.909412</td>\n",
              "      <td>-0.689281</td>\n",
              "      <td>-0.327642</td>\n",
              "      <td>-0.139097</td>\n",
              "      <td>-0.055353</td>\n",
              "      <td>-0.059752</td>\n",
              "      <td>0</td>\n",
              "    </tr>\n",
              "    <tr>\n",
              "      <th>3</th>\n",
              "      <td>1.418291</td>\n",
              "      <td>-0.994972</td>\n",
              "      <td>-0.966272</td>\n",
              "      <td>-0.185226</td>\n",
              "      <td>1.792993</td>\n",
              "      <td>-0.863291</td>\n",
              "      <td>-0.010309</td>\n",
              "      <td>1.247203</td>\n",
              "      <td>0.237609</td>\n",
              "      <td>0.377436</td>\n",
              "      <td>-1.387024</td>\n",
              "      <td>-0.054952</td>\n",
              "      <td>-0.226487</td>\n",
              "      <td>0.178228</td>\n",
              "      <td>0.507757</td>\n",
              "      <td>-0.287924</td>\n",
              "      <td>-0.631418</td>\n",
              "      <td>-1.059647</td>\n",
              "      <td>-0.684093</td>\n",
              "      <td>1.965775</td>\n",
              "      <td>-1.232622</td>\n",
              "      <td>-0.208038</td>\n",
              "      <td>-0.108300</td>\n",
              "      <td>0.005274</td>\n",
              "      <td>-0.190321</td>\n",
              "      <td>-1.175575</td>\n",
              "      <td>0.647376</td>\n",
              "      <td>-0.221929</td>\n",
              "      <td>0.062723</td>\n",
              "      <td>0.061458</td>\n",
              "      <td>0</td>\n",
              "    </tr>\n",
              "    <tr>\n",
              "      <th>4</th>\n",
              "      <td>0.670579</td>\n",
              "      <td>-0.994960</td>\n",
              "      <td>-1.158233</td>\n",
              "      <td>0.877737</td>\n",
              "      <td>1.548718</td>\n",
              "      <td>0.403034</td>\n",
              "      <td>-0.407193</td>\n",
              "      <td>0.095921</td>\n",
              "      <td>0.592941</td>\n",
              "      <td>-0.270533</td>\n",
              "      <td>0.817739</td>\n",
              "      <td>0.753074</td>\n",
              "      <td>-0.822843</td>\n",
              "      <td>0.538196</td>\n",
              "      <td>1.345852</td>\n",
              "      <td>-1.119670</td>\n",
              "      <td>0.175121</td>\n",
              "      <td>-0.451449</td>\n",
              "      <td>-0.237033</td>\n",
              "      <td>-0.038195</td>\n",
              "      <td>0.803487</td>\n",
              "      <td>0.408542</td>\n",
              "      <td>-0.009431</td>\n",
              "      <td>0.798278</td>\n",
              "      <td>-0.137458</td>\n",
              "      <td>0.141267</td>\n",
              "      <td>-0.206010</td>\n",
              "      <td>0.502292</td>\n",
              "      <td>0.219422</td>\n",
              "      <td>0.215153</td>\n",
              "      <td>0</td>\n",
              "    </tr>\n",
              "  </tbody>\n",
              "</table>\n",
              "</div>"
            ],
            "text/plain": [
              "   scaled_amount  scaled_time        V1  ...       V27       V28  Class\n",
              "0       1.783274    -0.994983 -1.359807  ...  0.133558 -0.021053      0\n",
              "1      -0.269825    -0.994983  1.191857  ... -0.008983  0.014724      0\n",
              "2       4.983721    -0.994972 -1.358354  ... -0.055353 -0.059752      0\n",
              "3       1.418291    -0.994972 -0.966272  ...  0.062723  0.061458      0\n",
              "4       0.670579    -0.994960 -1.158233  ...  0.219422  0.215153      0\n",
              "\n",
              "[5 rows x 31 columns]"
            ]
          },
          "metadata": {
            "tags": []
          },
          "execution_count": 17
        }
      ]
    },
    {
      "cell_type": "markdown",
      "metadata": {
        "id": "dXdL7i75Ouna",
        "colab_type": "text"
      },
      "source": [
        "## **Engenharia de Features**"
      ]
    },
    {
      "cell_type": "markdown",
      "metadata": {
        "id": "lBRH5kMnOunb",
        "colab_type": "text"
      },
      "source": [
        "Como nosso dataset não nos possibilite muitas opções de trabalho com as variáveis devido ao PCA realizado, usarei PolynomialFeatures no sklearn.preprocessing para criar interações bidirecionais para todos os recursos."
      ]
    },
    {
      "cell_type": "code",
      "metadata": {
        "id": "iupu17VPOunc",
        "colab_type": "code",
        "colab": {}
      },
      "source": [
        "def add_interactions(df):\n",
        "    # Get feature names\n",
        "    combos = list(combinations(list(df.columns), 2))\n",
        "    colnames = list(df.columns) + ['_'.join(x) for x in combos]\n",
        "    \n",
        "    # Find interactions\n",
        "    poly = PolynomialFeatures(interaction_only=True, include_bias=False)\n",
        "    df = poly.fit_transform(df)\n",
        "    df = pd.DataFrame(df)\n",
        "    df.columns = colnames\n",
        "    \n",
        "    # Remove interaction terms with all 0 values            \n",
        "    noint_indicies = [i for i, x in enumerate(list((df == 0).all())) if x]\n",
        "    df = df.drop(df.columns[noint_indicies], axis=1)\n",
        "    \n",
        "    return df"
      ],
      "execution_count": null,
      "outputs": []
    },
    {
      "cell_type": "code",
      "metadata": {
        "id": "M-rhQhfMOupV",
        "colab_type": "code",
        "colab": {}
      },
      "source": [
        "df_fe = add_interactions(df.copy().drop('Class', axis=1))\n",
        "df_fe['Class'] = df['Class'].copy()"
      ],
      "execution_count": null,
      "outputs": []
    },
    {
      "cell_type": "code",
      "metadata": {
        "id": "qBClaLt-Oupb",
        "colab_type": "code",
        "colab": {
          "base_uri": "https://localhost:8080/",
          "height": 34
        },
        "outputId": "8bcd5ea9-dd6e-48e0-970f-5f3b2c43350a"
      },
      "source": [
        "df_fe.shape"
      ],
      "execution_count": null,
      "outputs": [
        {
          "output_type": "execute_result",
          "data": {
            "text/plain": [
              "(284807, 466)"
            ]
          },
          "metadata": {
            "tags": []
          },
          "execution_count": 20
        }
      ]
    },
    {
      "cell_type": "markdown",
      "metadata": {
        "id": "4OfIWWRjOuph",
        "colab_type": "text"
      },
      "source": [
        "**Separação em base de treino e validação:**"
      ]
    },
    {
      "cell_type": "code",
      "metadata": {
        "id": "d-e3588iHtbB",
        "colab_type": "code",
        "colab": {}
      },
      "source": [
        "# Definindo semente randomica\n",
        "SEED=42"
      ],
      "execution_count": null,
      "outputs": []
    },
    {
      "cell_type": "code",
      "metadata": {
        "colab_type": "code",
        "id": "QfXG7p-xYCyL",
        "colab": {}
      },
      "source": [
        "# divisão dos dados em treino e teste\n",
        "X = df_fe.drop('Class', axis=1)\n",
        "y = df_fe['Class']\n",
        " \n",
        "X_train, X_test, y_train, y_test = train_test_split(X, y, random_state=SEED, test_size=0.3,stratify=y, shuffle=True)"
      ],
      "execution_count": null,
      "outputs": []
    },
    {
      "cell_type": "markdown",
      "metadata": {
        "id": "rW-SHxe1WDEN",
        "colab_type": "text"
      },
      "source": [
        "Gosto de dividir minha base de teste novamente em duas, uma (X_test, y_test) para eu ir usando ao longo da modelagem em busca de melhorar minha métrica de avaliação e outra (X_val, y_val) que não utilizarei, mas que tem por objetivo avaliar o modelo no final confirmando a qualidade do mesmo."
      ]
    },
    {
      "cell_type": "code",
      "metadata": {
        "id": "fYebnFFqOupn",
        "colab_type": "code",
        "colab": {}
      },
      "source": [
        "X_test, X_val, y_test, y_val = train_test_split(X_test, y_test, random_state=SEED,test_size=0.5, stratify=y_test, shuffle=True)"
      ],
      "execution_count": null,
      "outputs": []
    },
    {
      "cell_type": "code",
      "metadata": {
        "id": "Ee43-kSjOups",
        "colab_type": "code",
        "colab": {
          "base_uri": "https://localhost:8080/",
          "height": 34
        },
        "outputId": "fd5d8209-86e1-4f8d-9170-d79147c07d5b"
      },
      "source": [
        "X_train.shape"
      ],
      "execution_count": null,
      "outputs": [
        {
          "output_type": "execute_result",
          "data": {
            "text/plain": [
              "(199364, 465)"
            ]
          },
          "metadata": {
            "tags": []
          },
          "execution_count": 24
        }
      ]
    },
    {
      "cell_type": "code",
      "metadata": {
        "id": "9M984uu_Ourg",
        "colab_type": "code",
        "colab": {
          "base_uri": "https://localhost:8080/",
          "height": 34
        },
        "outputId": "ef63b856-0209-4d82-80a6-14353fe7064d"
      },
      "source": [
        "X_test.shape"
      ],
      "execution_count": null,
      "outputs": [
        {
          "output_type": "execute_result",
          "data": {
            "text/plain": [
              "(42721, 465)"
            ]
          },
          "metadata": {
            "tags": []
          },
          "execution_count": 25
        }
      ]
    },
    {
      "cell_type": "code",
      "metadata": {
        "id": "ObdyEx9yOurl",
        "colab_type": "code",
        "colab": {
          "base_uri": "https://localhost:8080/",
          "height": 34
        },
        "outputId": "61813df4-176b-4f25-e2a6-72cf7473168b"
      },
      "source": [
        "X_val.shape"
      ],
      "execution_count": null,
      "outputs": [
        {
          "output_type": "execute_result",
          "data": {
            "text/plain": [
              "(42722, 465)"
            ]
          },
          "metadata": {
            "tags": []
          },
          "execution_count": 26
        }
      ]
    },
    {
      "cell_type": "markdown",
      "metadata": {
        "colab_type": "text",
        "id": "yxJ18A_6qbSi"
      },
      "source": [
        "**Balanceamento dos dados**  \n",
        "Como observado anteriormente, há uma disbrepancia entre\n",
        "a quantidade de dados não fraudulentos e fraudulentos.\n",
        "\n",
        "É necessário que tratemos esse desbalanceamento afim de\n",
        "não enviesar o nosso algoritmo na hora do treinamento. \n",
        "\n",
        "Para tau utilizaremos a técnica de balanceamento de dados [Under-sampling](https://imbalanced-learn.readthedocs.io/en/stable/under_sampling.html), da biblioteca imblearn. "
      ]
    },
    {
      "cell_type": "code",
      "metadata": {
        "colab_type": "code",
        "id": "oqTd0X0wgHmB",
        "colab": {
          "base_uri": "https://localhost:8080/",
          "height": 68
        },
        "outputId": "2d4dc859-99e5-47dd-e862-35c8268b410f"
      },
      "source": [
        "ros = RandomOverSampler()\n",
        "X_ros, y_ros = ros.fit_sample(X_train, y_train)\n",
        " \n",
        "print(pd.Series(y_ros).value_counts())"
      ],
      "execution_count": null,
      "outputs": [
        {
          "output_type": "stream",
          "text": [
            "1    199020\n",
            "0    199020\n",
            "dtype: int64\n"
          ],
          "name": "stdout"
        }
      ]
    },
    {
      "cell_type": "code",
      "metadata": {
        "id": "2MCYIJFuZ6cp",
        "colab_type": "code",
        "colab": {}
      },
      "source": [
        "X_ros = pd.DataFrame(X_ros,columns=X_train.columns)"
      ],
      "execution_count": null,
      "outputs": []
    },
    {
      "cell_type": "code",
      "metadata": {
        "id": "XyyVawwrOur0",
        "colab_type": "code",
        "colab": {
          "base_uri": "https://localhost:8080/",
          "height": 265
        },
        "outputId": "4e64cd50-85ca-41cd-c131-196dfd6f9b66"
      },
      "source": [
        "# Visualizando novamente distribuição de classes\n",
        "sns.countplot(y_ros);"
      ],
      "execution_count": null,
      "outputs": [
        {
          "output_type": "display_data",
          "data": {
            "image/png": "[encoded data removed]",
            "text/plain": [
              "<Figure size 432x288 with 1 Axes>"
            ]
          },
          "metadata": {
            "tags": []
          }
        }
      ]
    },
    {
      "cell_type": "markdown",
      "metadata": {
        "id": "4nWdBOYCOur4",
        "colab_type": "text"
      },
      "source": [
        "## **Criação de um Modelo Baseline**  "
      ]
    },
    {
      "cell_type": "markdown",
      "metadata": {
        "id": "S5cMKJVaXr6W",
        "colab_type": "text"
      },
      "source": [
        "Em um primeiro momento irei criar um modelo para termos uma baseline de métricas a serem melhoradas. Para tau irei usar apenas as features originais de nosso dataset, para mostrar também o quanto a engenharia de features é uma etapa importante do processo de modelagem."
      ]
    },
    {
      "cell_type": "code",
      "metadata": {
        "id": "OeZoTKOVYezY",
        "colab_type": "code",
        "colab": {}
      },
      "source": [
        "features_originais = list(df.drop('Class', axis=1).columns)"
      ],
      "execution_count": null,
      "outputs": []
    },
    {
      "cell_type": "code",
      "metadata": {
        "id": "ACFckOSTOur5",
        "colab_type": "code",
        "colab": {}
      },
      "source": [
        "# Random Forest\n",
        "rf_model = RandomForestClassifier(random_state=SEED, n_jobs=-1)\n",
        "rf_model.fit(X_ros.loc[:,features_originais], y_ros)\n",
        " \n",
        "# fazendo as previsões em cima dos dados de teste\n",
        "y_pred = rf_model.predict(X_test[features_originais])\n",
        "y_proba = rf_model.predict_proba(X_test[features_originais])"
      ],
      "execution_count": null,
      "outputs": []
    },
    {
      "cell_type": "code",
      "metadata": {
        "id": "xrmlUVqGOur-",
        "colab_type": "code",
        "colab": {
          "base_uri": "https://localhost:8080/",
          "height": 187
        },
        "outputId": "68f0aaf7-c3c2-4b0b-87d8-50e47ac5f256"
      },
      "source": [
        "# imprimindo relatório de classificação\n",
        "print(\"Relatório de Classificação:\\n\", classification_report(y_test, y_pred, digits=4))"
      ],
      "execution_count": null,
      "outputs": [
        {
          "output_type": "stream",
          "text": [
            "Relatório de Classificação:\n",
            "               precision    recall  f1-score   support\n",
            "\n",
            "           0     0.9995    0.9999    0.9997     42647\n",
            "           1     0.9455    0.7027    0.8062        74\n",
            "\n",
            "    accuracy                         0.9994     42721\n",
            "   macro avg     0.9725    0.8513    0.9030     42721\n",
            "weighted avg     0.9994    0.9994    0.9994     42721\n",
            "\n"
          ],
          "name": "stdout"
        }
      ]
    },
    {
      "cell_type": "code",
      "metadata": {
        "id": "Hk_wuwVJOutv",
        "colab_type": "code",
        "colab": {
          "base_uri": "https://localhost:8080/",
          "height": 415
        },
        "outputId": "e27fb57b-3eaf-45a7-f6d2-09c9ac165c5b"
      },
      "source": [
        "matriz_confusao = confusion_matrix(y_test,y_pred)\n",
        "plt.figure(figsize=(8,6))\n",
        "sns.set(font_scale=2)\n",
        "sns.heatmap(matriz_confusao, annot=True, fmt=\"d\").set(xlabel = \"Predito\", ylabel=\"Real\");"
      ],
      "execution_count": null,
      "outputs": [
        {
          "output_type": "display_data",
          "data": {
            "image/png": "[encoded data removed]",
            "text/plain": [
              "<Figure size 576x432 with 2 Axes>"
            ]
          },
          "metadata": {
            "tags": []
          }
        }
      ]
    },
    {
      "cell_type": "markdown",
      "metadata": {
        "id": "oNNGLg59Out4",
        "colab_type": "text"
      },
      "source": [
        "Temos um modelo inicial já com métricas bem interessantes, mas ainda há espaço para melhora. Utilizarei como baseline nosso f1-score (atualmente 0.8062) que considera a precisão e o recall.\n",
        "\n",
        "Vamos trabalhar no processo de modelagem em busca de aumentar essa métrica."
      ]
    },
    {
      "cell_type": "markdown",
      "metadata": {
        "id": "dQ3LyQbukwA1",
        "colab_type": "text"
      },
      "source": [
        "## **Adição de novas variáveis**"
      ]
    },
    {
      "cell_type": "markdown",
      "metadata": {
        "id": "KD5PacEALCgz",
        "colab_type": "text"
      },
      "source": [
        "O primeiro ponto a se trabalhar é aumentar as variáveis utilizadas no modelo, as quais criei ao longo do processo de engenharia de features."
      ]
    },
    {
      "cell_type": "code",
      "metadata": {
        "id": "_kMLrQzmktv0",
        "colab_type": "code",
        "colab": {}
      },
      "source": [
        "# Random Forest\n",
        "rf_model = RandomForestClassifier(random_state=SEED, n_jobs=-1)\n",
        "rf_model.fit(X_ros, y_ros)\n",
        " \n",
        "# fazendo as previsões em cima dos dados de teste\n",
        "y_pred_test = rf_model.predict(X_test)\n",
        "y_proba_test = rf_model.predict_proba(X_test)\n",
        "\n",
        "# fazendo as previsões em cima dos dados de validação\n",
        "y_pred_val = rf_model.predict(X_val)\n",
        "y_proba_val = rf_model.predict_proba(X_val)"
      ],
      "execution_count": null,
      "outputs": []
    },
    {
      "cell_type": "code",
      "metadata": {
        "id": "1xMtxPtNk7Ba",
        "colab_type": "code",
        "colab": {
          "base_uri": "https://localhost:8080/",
          "height": 51
        },
        "outputId": "31d49c35-8a26-4a77-f568-f0c65945b1ba"
      },
      "source": [
        "# imprimindo f1-score teste e validação\n",
        "print(\"f1-score na base teste:{} \\nf1-score na base de validação:{}\".format(f1_score(y_test, y_pred_test),f1_score(y_val, y_pred_val)))"
      ],
      "execution_count": null,
      "outputs": [
        {
          "output_type": "stream",
          "text": [
            "f1-score na base teste:0.8031496062992127 \n",
            "f1-score na base de validação:0.8484848484848485\n"
          ],
          "name": "stdout"
        }
      ]
    },
    {
      "cell_type": "markdown",
      "metadata": {
        "id": "o1mh50GCocvI",
        "colab_type": "text"
      },
      "source": [
        "Após adicionar as variáveis criadas em nosso processo de engenharia de features, notamos uma pequena melhora na nossa métrica f1-score da base teste, subindo para 0.8031.\n",
        "\n",
        "Podemos agora trabalhar nossos hiperparâmetros, buscando melhorar ainda mais o modelo.\n",
        "\n"
      ]
    },
    {
      "cell_type": "markdown",
      "metadata": {
        "id": "mzUQemZZOut6",
        "colab_type": "text"
      },
      "source": [
        "## **Seleção de Hiperparâmetros**"
      ]
    },
    {
      "cell_type": "markdown",
      "metadata": {
        "id": "52Oh0ZYmeqRr",
        "colab_type": "text"
      },
      "source": [
        "Deixei estruturado aquela que considero a melhor maneira de fazer a seleção de hiperparâmetros automaticamente, porém irei realizar a mesma \"manualnualmente\" logo abaixo.\n"
      ]
    },
    {
      "cell_type": "code",
      "metadata": {
        "id": "re4MsRXDOut7",
        "colab_type": "code",
        "colab": {}
      },
      "source": [
        "# Número de árvores na floresta aleatória\n",
        "n_estimators = [100, 200, 300, 400]\n",
        "# Número máximo de níveis na árvore\n",
        "max_depth = [5, 7, 10, 20, 25, 35, 40, 50]\n",
        "max_depth.append(None)\n",
        "# Número mínimo de amostras necessárias para dividir um nó\n",
        "min_samples_split = [2, 3, 5, 8]\n",
        "# Número mínimo de amostras necessárias em cada nó da folha\n",
        "min_samples_leaf = [2, 3, 6]\n",
        "# Método de seleção de amostras para treinar cada árvore\n",
        "bootstrap = [True, False]\n",
        "# Crie a grade aleatória\n",
        "random_grid = {'n_estimators': n_estimators,\n",
        "               'max_depth': max_depth,\n",
        "               'min_samples_split': min_samples_split,\n",
        "               'min_samples_leaf': min_samples_leaf,\n",
        "               'bootstrap': bootstrap}"
      ],
      "execution_count": null,
      "outputs": []
    },
    {
      "cell_type": "code",
      "metadata": {
        "id": "rkElNUIfOut_",
        "colab_type": "code",
        "colab": {}
      },
      "source": [
        "rf_random = RandomForestClassifier(random_state=SEED, n_jobs=-1)\n",
        "rf_random = RandomizedSearchCV(estimator = rf_random, param_distributions = random_grid,\n",
        "                               n_iter = 100, cv=5, random_state=SEED,\n",
        "                               n_jobs = -1, scoring='f1')\n",
        "\n",
        "rf_random.fit(X_ros, y_ros)\n",
        "rf_random.best_params_"
      ],
      "execution_count": null,
      "outputs": []
    },
    {
      "cell_type": "code",
      "metadata": {
        "colab_type": "code",
        "id": "JZEOP3nZTqUP",
        "colab": {
          "base_uri": "https://localhost:8080/",
          "height": 51
        },
        "outputId": "abffafbf-bf19-47a9-ddb4-c6e0581d4494"
      },
      "source": [
        "#Testando com novos hiperparâmetros\n",
        "%%time\n",
        "rf_model = RandomForestClassifier(class_weight={0:3, 1:0.1},\n",
        "                                  n_estimators=100,\n",
        "                                  max_depth= 25,\n",
        "                                  min_samples_split=8,\n",
        "                                  min_samples_leaf=1,\n",
        "                                  random_state=SEED,\n",
        "                                  n_jobs=-1)\n",
        "rf_model.fit(X_ros, y_ros)\n",
        " \n",
        "# fazendo as previsões em cima dos dados de teste\n",
        "y_pred_test = rf_model.predict(X_test)\n",
        "y_proba_test = rf_model.predict_proba(X_test)\n",
        "\n",
        "# fazendo as previsões em cima dos dados de validação\n",
        "y_pred_val = rf_model.predict(X_val)\n",
        "y_proba_val = rf_model.predict_proba(X_val)"
      ],
      "execution_count": null,
      "outputs": [
        {
          "output_type": "stream",
          "text": [
            "CPU times: user 31min 47s, sys: 869 ms, total: 31min 48s\n",
            "Wall time: 16min 15s\n"
          ],
          "name": "stdout"
        }
      ]
    },
    {
      "cell_type": "code",
      "metadata": {
        "id": "BHtdV0pGTp7i",
        "colab_type": "code",
        "colab": {
          "base_uri": "https://localhost:8080/",
          "height": 51
        },
        "outputId": "3f0e8f28-b6cb-49b9-b01e-35ad3b1e3ef4"
      },
      "source": [
        "# imprimindo f1-score teste e validação\n",
        "print(\"f1-score na base teste:{} \\nf1-score na base de validação:{}\".format(f1_score(y_test, y_pred_test),f1_score(y_val, y_pred_val)))"
      ],
      "execution_count": null,
      "outputs": [
        {
          "output_type": "stream",
          "text": [
            "f1-score na base teste:0.8088235294117647 \n",
            "f1-score na base de validação:0.8444444444444444\n"
          ],
          "name": "stdout"
        }
      ]
    },
    {
      "cell_type": "markdown",
      "metadata": {
        "id": "PkMgt3bQ4RdK",
        "colab_type": "text"
      },
      "source": [
        "Com nossa parametrização podemos observar nova melhora em nossa métrica. \n",
        "\n",
        "Uma vez que já temos um modelo parametrizado podemos selecionar  melhor as variáveis utilizadas pelo modelo, priorizando apenas as que  realmente trazem algum ganho de informação para o mesmo."
      ]
    },
    {
      "cell_type": "markdown",
      "metadata": {
        "id": "RISe5IzbOuuV",
        "colab_type": "text"
      },
      "source": [
        "## **Seleção de variáveis**  "
      ]
    },
    {
      "cell_type": "code",
      "metadata": {
        "id": "a1ESDGGrEK0l",
        "colab_type": "code",
        "colab": {
          "base_uri": "https://localhost:8080/",
          "height": 697
        },
        "outputId": "bd8ad9c5-76eb-4889-b20d-b2bfdb1675fd"
      },
      "source": [
        "k_list = []\n",
        "k_vs_score_f1 = []\n",
        "k_vs_score_auc = []\n",
        "k_feat_selected = []\n",
        "k_vs_score_rec = []\n",
        "k_vs_score_precision = []\n",
        " \n",
        "model = RandomForestClassifier(class_weight={0:3, 1:0.1},\n",
        "                                  n_estimators=100,\n",
        "                                  max_depth= 25,\n",
        "                                  min_samples_split=8,\n",
        "                                  min_samples_leaf=1,\n",
        "                                  random_state=SEED,\n",
        "                                  n_jobs=-1)\n",
        " \n",
        "for k in list(range(1,40,2)):\n",
        "    selector_model = model\n",
        "    selector = SelectFromModel(selector_model, max_features=k, threshold=-np.inf)\n",
        "    \n",
        "    selector.fit(X_ros, y_ros)\n",
        "    mask = selector.get_support()\n",
        "    \n",
        "    print(X_ros.loc[:,mask].shape)\n",
        "    \n",
        "    model.fit(X_ros.loc[:,mask], y_ros)\n",
        "  \n",
        "    y_pred = model.predict(X_test.loc[:,mask])\n",
        "    y_pred_proba = model.predict_proba(X_test.loc[:,mask])\n",
        "    AUC = roc_auc_score(y_test,y_pred)\n",
        "    f1 = f1_score(y_test,y_pred)\n",
        "    rec = recall_score(y_test,y_pred)\n",
        "    precision = precision_score(y_test,y_pred)\n",
        "    \n",
        "    k_list.append(k)\n",
        "    k_vs_score_f1.append(f1)\n",
        "    k_vs_score_auc.append(AUC)\n",
        "    k_vs_score_rec.append(rec)\n",
        "    k_vs_score_precision.append(precision)\n",
        "    k_feat_selected.append(list(X_train.loc[:,mask].columns))\n",
        "    \n",
        "    print(\"k: {}, AUC: {}, f1-score: {}, Recall: {}, Precision:{}\".format(k,AUC,f1,rec,precision))"
      ],
      "execution_count": null,
      "outputs": [
        {
          "output_type": "stream",
          "text": [
            "(398040, 1)\n",
            "k: 1, AUC: 0.8576625902522214, f1-score: 0.6424242424242425, Recall: 0.7162162162162162, Precision:0.5824175824175825\n",
            "(398040, 3)\n",
            "k: 3, AUC: 0.8916925812721531, f1-score: 0.7785234899328859, Recall: 0.7837837837837838, Precision:0.7733333333333333\n",
            "(398040, 5)\n",
            "k: 5, AUC: 0.8916925812721531, f1-score: 0.7785234899328859, Recall: 0.7837837837837838, Precision:0.7733333333333333\n",
            "(398040, 7)\n",
            "k: 7, AUC: 0.8916925812721531, f1-score: 0.7785234899328859, Recall: 0.7837837837837838, Precision:0.7733333333333333\n",
            "(398040, 9)\n",
            "k: 9, AUC: 0.8984376138748076, f1-score: 0.7814569536423841, Recall: 0.7972972972972973, Precision:0.7662337662337663\n",
            "(398040, 11)\n",
            "k: 11, AUC: 0.8916925812721531, f1-score: 0.7785234899328859, Recall: 0.7837837837837838, Precision:0.7733333333333333\n",
            "(398040, 13)\n",
            "k: 13, AUC: 0.8984610621830121, f1-score: 0.7919463087248321, Recall: 0.7972972972972973, Precision:0.7866666666666666\n",
            "(398040, 15)\n",
            "k: 15, AUC: 0.8917160295803577, f1-score: 0.7891156462585033, Recall: 0.7837837837837838, Precision:0.7945205479452054\n",
            "(398040, 17)\n",
            "k: 17, AUC: 0.8984845104912168, f1-score: 0.802721088435374, Recall: 0.7972972972972973, Precision:0.8082191780821918\n",
            "(398040, 19)\n",
            "k: 19, AUC: 0.8917160295803577, f1-score: 0.7891156462585033, Recall: 0.7837837837837838, Precision:0.7945205479452054\n",
            "(398040, 21)\n",
            "k: 21, AUC: 0.8984727863371145, f1-score: 0.7972972972972974, Recall: 0.7972972972972973, Precision:0.7972972972972973\n",
            "(398040, 23)\n",
            "k: 23, AUC: 0.8984845104912168, f1-score: 0.802721088435374, Recall: 0.7972972972972973, Precision:0.8082191780821918\n",
            "(398040, 25)\n",
            "k: 25, AUC: 0.8984845104912168, f1-score: 0.802721088435374, Recall: 0.7972972972972973, Precision:0.8082191780821918\n",
            "(398040, 27)\n",
            "k: 27, AUC: 0.8985079587994214, f1-score: 0.8137931034482759, Recall: 0.7972972972972973, Precision:0.8309859154929577\n",
            "(398040, 29)\n",
            "k: 29, AUC: 0.8985314071076258, f1-score: 0.8251748251748252, Recall: 0.7972972972972973, Precision:0.855072463768116\n",
            "(398040, 31)\n",
            "k: 31, AUC: 0.8985196829535235, f1-score: 0.8194444444444444, Recall: 0.7972972972972973, Precision:0.8428571428571429\n",
            "(398040, 33)\n",
            "k: 33, AUC: 0.8985314071076258, f1-score: 0.8251748251748252, Recall: 0.7972972972972973, Precision:0.855072463768116\n",
            "(398040, 35)\n",
            "k: 35, AUC: 0.8985431312617281, f1-score: 0.8309859154929577, Recall: 0.7972972972972973, Precision:0.8676470588235294\n",
            "(398040, 37)\n",
            "k: 37, AUC: 0.8985196829535235, f1-score: 0.8194444444444444, Recall: 0.7972972972972973, Precision:0.8428571428571429\n",
            "(398040, 39)\n",
            "k: 39, AUC: 0.8985079587994214, f1-score: 0.8137931034482759, Recall: 0.7972972972972973, Precision:0.8309859154929577\n"
          ],
          "name": "stdout"
        }
      ]
    },
    {
      "cell_type": "code",
      "metadata": {
        "id": "FVjDSbtyGJu-",
        "colab_type": "code",
        "colab": {
          "base_uri": "https://localhost:8080/",
          "height": 498
        },
        "outputId": "7385fa10-c36c-4d3e-a85a-a9517702cbbf"
      },
      "source": [
        "fig, ax = plt.subplots(figsize=(12,8))\n",
        "plt.plot( k_list, k_vs_score_auc, color='skyblue')\n",
        "ax.tick_params( colors='r');\n",
        "\n",
        "# Get second axis\n",
        "ax2 = ax.twinx()\n",
        "plt.plot( k_list, k_vs_score_f1, color='yellow')\n",
        "plt.plot( k_list, k_vs_score_rec, color='red')\n",
        "plt.plot( k_list, k_vs_score_precision, color='green')\n",
        "ax.tick_params( colors='b');"
      ],
      "execution_count": null,
      "outputs": [
        {
          "output_type": "display_data",
          "data": {
            "image/png": "[encoded data removed]",
            "text/plain": [
              "<Figure size 864x576 with 2 Axes>"
            ]
          },
          "metadata": {
            "tags": []
          }
        }
      ]
    },
    {
      "cell_type": "markdown",
      "metadata": {
        "id": "JtyFQSyiyG7f",
        "colab_type": "text"
      },
      "source": [
        "Através do uso desse tipo de análise constatei que o ganho máximo de informação através do uso de mais variáveis foi entre 30 e 35. Através de nova análise cheguei a conclusão que o melhor k é de 33 features, sendo as melhores apresentadas abaixo."
      ]
    },
    {
      "cell_type": "code",
      "metadata": {
        "id": "uZxGmupia3Z0",
        "colab_type": "code",
        "colab": {}
      },
      "source": [
        "best_feats = ['V10', 'V12', 'V14', 'V17','V3_V4', 'V3_V11', 'V3_V12', 'V3_V14', 'V3_V16', 'V3_V17',\n",
        " 'V4_V11', 'V4_V12', 'V4_V14', 'V4_V16', 'V4_V17', 'V7_V14', 'V7_V17', 'V9_V11', 'V9_V12', 'V10_V11',\n",
        " 'V10_V12', 'V10_V14', 'V10_V16', 'V10_V17', 'V11_V12', 'V11_V14', 'V11_V17', 'V12_V14', 'V12_V16',\n",
        " 'V12_V17', 'V14_V16', 'V14_V17','V16_V17']"
      ],
      "execution_count": null,
      "outputs": []
    },
    {
      "cell_type": "markdown",
      "metadata": {
        "colab_type": "text",
        "id": "HeimHn0ohE_u"
      },
      "source": [
        "## **Criação do Modelo de Classificação Final**  "
      ]
    },
    {
      "cell_type": "code",
      "metadata": {
        "colab_type": "code",
        "id": "kE_IlVLmg-fd",
        "colab": {
          "base_uri": "https://localhost:8080/",
          "height": 51
        },
        "outputId": "95754d97-345b-46eb-b041-cfbf01da3d3a"
      },
      "source": [
        "# Random Forest\n",
        "%%time\n",
        "rf_model = RandomForestClassifier(class_weight={0:3, 1:0.1},\n",
        "                                  n_estimators=100,\n",
        "                                  max_depth= 25,\n",
        "                                  min_samples_split=8,\n",
        "                                  min_samples_leaf=1,\n",
        "                                  random_state=SEED,\n",
        "                                  n_jobs=-1)\n",
        "rf_model.fit(X_ros.loc[:,best_feats], y_ros)\n",
        " \n",
        "# fazendo as previsões em cima dos dados de teste\n",
        "y_pred = rf_model.predict(X_test[best_feats])\n",
        "y_proba = rf_model.predict_proba(X_test[best_feats])"
      ],
      "execution_count": null,
      "outputs": [
        {
          "output_type": "stream",
          "text": [
            "CPU times: user 6min 22s, sys: 346 ms, total: 6min 22s\n",
            "Wall time: 3min 16s\n"
          ],
          "name": "stdout"
        }
      ]
    },
    {
      "cell_type": "code",
      "metadata": {
        "id": "Kp48dUZAb01l",
        "colab_type": "code",
        "colab": {
          "base_uri": "https://localhost:8080/",
          "height": 187
        },
        "outputId": "f6c5f068-7838-45bb-de39-d3c770d3ee4b"
      },
      "source": [
        "# imprimindo relatório de classificação\n",
        "print(\"Relatório de Classificação:\\n\", classification_report(y_test, y_pred, digits=4))"
      ],
      "execution_count": null,
      "outputs": [
        {
          "output_type": "stream",
          "text": [
            "Relatório de Classificação:\n",
            "               precision    recall  f1-score   support\n",
            "\n",
            "           0     0.9996    1.0000    0.9998     42647\n",
            "           1     0.9661    0.7703    0.8571        74\n",
            "\n",
            "    accuracy                         0.9996     42721\n",
            "   macro avg     0.9829    0.8851    0.9285     42721\n",
            "weighted avg     0.9995    0.9996    0.9995     42721\n",
            "\n"
          ],
          "name": "stdout"
        }
      ]
    },
    {
      "cell_type": "markdown",
      "metadata": {
        "id": "calU0VUDNn45",
        "colab_type": "text"
      },
      "source": [
        "Enfim temos um modelo com um um f1-score (0.8571) um tanto quanto melhor que o inicial (0.8062)."
      ]
    },
    {
      "cell_type": "code",
      "metadata": {
        "id": "agF1E7I1b7mH",
        "colab_type": "code",
        "colab": {
          "base_uri": "https://localhost:8080/",
          "height": 415
        },
        "outputId": "2c638cff-5f87-4165-9d18-a75075ddafc4"
      },
      "source": [
        "matriz_confusao = confusion_matrix(y_test,y_pred)\n",
        "plt.figure(figsize=(8,6))\n",
        "sns.set(font_scale=2)\n",
        "sns.heatmap(matriz_confusao, annot=True, fmt=\"d\").set(xlabel = \"Predito\", ylabel=\"Real\");"
      ],
      "execution_count": null,
      "outputs": [
        {
          "output_type": "display_data",
          "data": {
            "image/png": "[encoded data removed]",
            "text/plain": [
              "<Figure size 576x432 with 2 Axes>"
            ]
          },
          "metadata": {
            "tags": []
          }
        }
      ]
    },
    {
      "cell_type": "markdown",
      "metadata": {
        "id": "vxmz0AgOyahZ",
        "colab_type": "text"
      },
      "source": [
        "## **Importância das variáveis**"
      ]
    },
    {
      "cell_type": "markdown",
      "metadata": {
        "id": "F--ZhllXO8_E",
        "colab_type": "text"
      },
      "source": [
        "Um ponto importante para o negócio é entender quais variáveis estão pesando para a compreensão do modelo. Isso pode ser observado de maneira simples através da \"feature_importances\" e até mesmos visualizado após aplicado em dados novos através de bibliotecas como \"Lime\" e \"Shap\", as quais não apresentarei aqui por não ser o foco do trabalho."
      ]
    },
    {
      "cell_type": "code",
      "metadata": {
        "id": "bTTQ6migcB3a",
        "colab_type": "code",
        "colab": {
          "base_uri": "https://localhost:8080/",
          "height": 766
        },
        "outputId": "99b8be3c-684d-44cb-bb11-86a3832186b4"
      },
      "source": [
        "importances = rf_model.feature_importances_\n",
        "indices = np.argsort(importances)\n",
        "\n",
        "plt.figure(figsize=(12,12))\n",
        "plt.title('Feature Importances')\n",
        "plt.barh(range(len(indices)), importances[indices], color='b', align='center')\n",
        "plt.yticks(range(len(indices)), [best_feats[i] for i in indices])\n",
        "plt.xlabel('Relative Importance')\n",
        "plt.show()"
      ],
      "execution_count": null,
      "outputs": [
        {
          "output_type": "display_data",
          "data": {
            "image/png": "[encoded data removed]",
            "text/plain": [
              "<Figure size 864x864 with 1 Axes>"
            ]
          },
          "metadata": {
            "tags": []
          }
        }
      ]
    },
    {
      "cell_type": "markdown",
      "metadata": {
        "id": "DMzfB0OSzJrl",
        "colab_type": "text"
      },
      "source": [
        "É interessante observar que a maior parte das variáveis selecionadas como melhores pelo modelo foram criadas no nosso processo de egenharia de features, demonstrando a importância desse processo ao longo da modelagem.\n"
      ]
    },
    {
      "cell_type": "markdown",
      "metadata": {
        "id": "02zxU8xyzvs8",
        "colab_type": "text"
      },
      "source": [
        "## **Melhoria pelo ponto de corte**"
      ]
    },
    {
      "cell_type": "markdown",
      "metadata": {
        "id": "sougwdukPKjE",
        "colab_type": "text"
      },
      "source": [
        "Após a criação do modelo ainda podemos melhorar seus resultando definindo um ponto de corte nas probabilidades do output que definirá quem consideraremos realmente como fraude ou não."
      ]
    },
    {
      "cell_type": "code",
      "metadata": {
        "id": "HEG0Gv-z2c68",
        "colab_type": "code",
        "colab": {}
      },
      "source": [
        "def select_best_adjust_f1(y_score, y_valid):\n",
        "    for t in [0.5, 0.55, 0.6, 0.65, 0.7, 0.75, 0.8, 0.85, 0.9]:\n",
        "        y_new = y_score[:,1]\n",
        "        y_new = np.where(y_new > t, 1, y_new)\n",
        "        y_new = np.where(y_new < t, 0, y_new)\n",
        "        y_new = y_new.astype(int)\n",
        "       \n",
        "        f1score = f1_score(y_valid,y_new)\n",
        "        precisao = precision_score(y_valid,y_new)\n",
        "        recall = recall_score(y_valid,y_new)\n",
        "       \n",
        "        print(\"t: {}, f1-score: {}, Precisão: {}, Recall: {}\".format(t, f1score, precisao, recall))"
      ],
      "execution_count": null,
      "outputs": []
    },
    {
      "cell_type": "code",
      "metadata": {
        "id": "mqKEOemE90wn",
        "colab_type": "code",
        "colab": {
          "base_uri": "https://localhost:8080/",
          "height": 170
        },
        "outputId": "c42f5c43-60ec-4c5d-becc-344e5a683233"
      },
      "source": [
        "select_best_adjust_f1(y_proba, y_test)"
      ],
      "execution_count": null,
      "outputs": [
        {
          "output_type": "stream",
          "text": [
            "t: 0.5, f1-score: 0.8571428571428571, Precisão: 0.9661016949152542, Recall: 0.7702702702702703\n",
            "t: 0.55, f1-score: 0.8636363636363636, Precisão: 0.9827586206896551, Recall: 0.7702702702702703\n",
            "t: 0.6, f1-score: 0.8372093023255814, Precisão: 0.9818181818181818, Recall: 0.7297297297297297\n",
            "t: 0.65, f1-score: 0.8095238095238095, Precisão: 0.9807692307692307, Recall: 0.6891891891891891\n",
            "t: 0.7, f1-score: 0.8095238095238095, Precisão: 0.9807692307692307, Recall: 0.6891891891891891\n",
            "t: 0.75, f1-score: 0.7704918032786885, Precisão: 0.9791666666666666, Recall: 0.6351351351351351\n",
            "t: 0.8, f1-score: 0.7603305785123967, Precisão: 0.9787234042553191, Recall: 0.6216216216216216\n",
            "t: 0.85, f1-score: 0.706896551724138, Precisão: 0.9761904761904762, Recall: 0.5540540540540541\n",
            "t: 0.9, f1-score: 0.6725663716814159, Precisão: 0.9743589743589743, Recall: 0.5135135135135135\n"
          ],
          "name": "stdout"
        }
      ]
    },
    {
      "cell_type": "markdown",
      "metadata": {
        "id": "lHsKTbPZ_UEb",
        "colab_type": "text"
      },
      "source": [
        "Como podemos observar, podemos ter um certo grau de melhora se considerarmos como fraude apenas detecções com probabilidades superiores a 55%. Vamos ver como isso melhora nossa matriz de confusão."
      ]
    },
    {
      "cell_type": "code",
      "metadata": {
        "id": "W0Zl1a69_qXV",
        "colab_type": "code",
        "colab": {}
      },
      "source": [
        "def cut_point_adjust(y_score,t):\n",
        "    y_new = y_score[:,1]\n",
        "    y_new = np.where(y_new > t, 1, y_new)\n",
        "    y_new = np.where(y_new < t, 0, y_new)\n",
        "    y_new = y_new.astype(int)\n",
        "    return y_new"
      ],
      "execution_count": null,
      "outputs": []
    },
    {
      "cell_type": "code",
      "metadata": {
        "id": "Can7hKMWASYQ",
        "colab_type": "code",
        "colab": {
          "base_uri": "https://localhost:8080/",
          "height": 415
        },
        "outputId": "e9913bad-d5b8-495a-d1b5-496c038c35ad"
      },
      "source": [
        "y_pred_cut = cut_point_adjust(y_proba,0.55)\n",
        "\n",
        "matriz_confusao = confusion_matrix(y_test,y_pred_cut)\n",
        "plt.figure(figsize=(8,6))\n",
        "sns.set(font_scale=2)\n",
        "sns.heatmap(matriz_confusao, annot=True, fmt=\"d\").set(xlabel = \"Predito\", ylabel=\"Real\");"
      ],
      "execution_count": null,
      "outputs": [
        {
          "output_type": "display_data",
          "data": {
            "image/png": "[encoded data removed]",
            "text/plain": [
              "<Figure size 576x432 with 2 Axes>"
            ]
          },
          "metadata": {
            "tags": []
          }
        }
      ]
    },
    {
      "cell_type": "markdown",
      "metadata": {
        "id": "jQljvNn-PnYu",
        "colab_type": "text"
      },
      "source": [
        "Através do ponto de corte, conseguimos errar um pouco menos as indicações de fraude, melhorando nossa precisão."
      ]
    },
    {
      "cell_type": "markdown",
      "metadata": {
        "id": "XJFkw_UEziKL",
        "colab_type": "text"
      },
      "source": [
        "## **Validação do Modelo**"
      ]
    },
    {
      "cell_type": "markdown",
      "metadata": {
        "id": "IDL94DnbBeFA",
        "colab_type": "text"
      },
      "source": [
        "Agora iremos avaliar nosso modelo em nossa base de validação, aquela base que separei e não utilizei em momento algum ao longo da modelagem. A expectativa é que as métricas de avaliação não piorem muito ao realizar a aplicação do modelo nessa base, o que poderia vir a indicar certo grau de overfiting.\n",
        "\n",
        "As métricas que temos que manter são:\n",
        "- f1-score: 0.8636363636363636\n",
        "- Precisão: 0.9827586206896551\n",
        "- Recall: 0.7702702702702703"
      ]
    },
    {
      "cell_type": "code",
      "metadata": {
        "id": "_U6lUedezfWl",
        "colab_type": "code",
        "colab": {}
      },
      "source": [
        "# fazendo as previsões em cima dos dados de teste\n",
        "y_pred = rf_model.predict(X_val[best_feats])\n",
        "y_proba = rf_model.predict_proba(X_val[best_feats])"
      ],
      "execution_count": null,
      "outputs": []
    },
    {
      "cell_type": "code",
      "metadata": {
        "id": "jwlan1HbCNHM",
        "colab_type": "code",
        "colab": {
          "base_uri": "https://localhost:8080/",
          "height": 187
        },
        "outputId": "1529f582-7476-4750-9da9-d86680055a58"
      },
      "source": [
        "# imprimindo relatório de classificação\n",
        "print(\"Relatório de Classificação:\\n\", classification_report(y_val,y_pred_cut, digits=4))"
      ],
      "execution_count": null,
      "outputs": [
        {
          "output_type": "stream",
          "text": [
            "Relatório de Classificação:\n",
            "               precision    recall  f1-score   support\n",
            "\n",
            "           0     0.9996    0.9999    0.9997     42648\n",
            "           1     0.9483    0.7432    0.8333        74\n",
            "\n",
            "    accuracy                         0.9995     42722\n",
            "   macro avg     0.9739    0.8716    0.9165     42722\n",
            "weighted avg     0.9995    0.9995    0.9995     42722\n",
            "\n"
          ],
          "name": "stdout"
        }
      ]
    },
    {
      "cell_type": "markdown",
      "metadata": {
        "id": "fNKWXUZ8Cs5q",
        "colab_type": "text"
      },
      "source": [
        "Podemos observar que não houveram quedas significativa nas métricas de avaliação, isso demonstra que nosso modelo tem determinado grau de consistência."
      ]
    },
    {
      "cell_type": "code",
      "metadata": {
        "id": "7Yef4QXNB8Qb",
        "colab_type": "code",
        "colab": {
          "base_uri": "https://localhost:8080/",
          "height": 415
        },
        "outputId": "1a1cd004-0bb2-4a1f-b8bf-c16a315434a7"
      },
      "source": [
        "y_pred_cut = cut_point_adjust(y_proba,0.55)\n",
        "\n",
        "matriz_confusao = confusion_matrix(y_val,y_pred_cut)\n",
        "plt.figure(figsize=(8,6))\n",
        "sns.set(font_scale=2)\n",
        "sns.heatmap(matriz_confusao, annot=True, fmt=\"d\").set(xlabel = \"Predito\", ylabel=\"Real\");"
      ],
      "execution_count": null,
      "outputs": [
        {
          "output_type": "display_data",
          "data": {
            "image/png": "[encoded data removed]",
            "text/plain": [
              "<Figure size 576x432 with 2 Axes>"
            ]
          },
          "metadata": {
            "tags": []
          }
        }
      ]
    },
    {
      "cell_type": "code",
      "metadata": {
        "id": "DDOVcuCFDCd4",
        "colab_type": "code",
        "colab": {}
      },
      "source": [
        ""
      ],
      "execution_count": null,
      "outputs": []
    }
  ]
}
